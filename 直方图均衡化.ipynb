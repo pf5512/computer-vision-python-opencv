{
 "cells": [
  {
   "cell_type": "code",
   "execution_count": 1,
   "metadata": {
    "collapsed": true
   },
   "outputs": [],
   "source": [
    "#直方图均衡化\n",
    "import cv2  \n",
    "import numpy as np  \n",
    "  \n",
    "image = cv2.imread(\"/Users/ylshan/Documents/python/视觉/opencv/data/unequ.jpg\", 0)  \n",
    "#cv2.imshow(\"origin\", image) \n",
    "lut = np.zeros(256, dtype = image.dtype )#创建空的查找表  \n",
    "hist= cv2.calcHist([image], #计算图像的直方图  \n",
    "    [0], #使用的通道  \n",
    "    None, #没有使用mask  \n",
    "    [256], #it is a 1D histogram  \n",
    "    [0.0,255.0])  \n",
    "      \n",
    "minBinNo, maxBinNo = 0, 255  \n",
    "  \n",
    "#计算从左起第一个不为0的直方图柱的位置  \n",
    "for binNo, binValue in enumerate(hist):  \n",
    "    if binValue != 0:  \n",
    "        minBinNo = binNo  \n",
    "        break  \n",
    "#计算从右起第一个不为0的直方图柱的位置  \n",
    "for binNo, binValue in enumerate(reversed(hist)):  \n",
    "    if binValue != 0:  \n",
    "        maxBinNo = 255-binNo  \n",
    "        break  \n",
    "#print (minBinNo, maxBinNo  )\n",
    "  \n",
    "#生成查找表，方法来自参考文献1第四章第2节  \n",
    "for i,v in enumerate(lut):  \n",
    "    #print( i ) \n",
    "    if i < minBinNo:  \n",
    "        lut[i] = 0  \n",
    "    elif i > maxBinNo:  \n",
    "        lut[i] = 255  \n",
    "    else:  \n",
    "        lut[i] = int(255.0*(i-minBinNo)/(maxBinNo-minBinNo)+0.5)  \n",
    "  \n",
    "#计算  \n",
    "result = cv2.LUT(image, lut)  \n",
    "res = np.hstack((image,result))\n",
    "cv2.imshow(\"result\", res) \n",
    "\n",
    "#opencv 函数 直方图均衡化全局\n",
    "equ = cv2.equalizeHist(image) \n",
    "res = np.hstack((image,equ))\n",
    "cv2.imshow(\"equalizeHist\", res) \n",
    "\n",
    "# 局部均衡化\n",
    "clahe = cv2.createCLAHE(clipLimit=2.0, tileGridSize=(8,8)) \n",
    "cl1 = clahe.apply(image)\n",
    "res = np.hstack((image,cl1))\n",
    "cv2.imshow(\"createCLAHE\", res)\n",
    "\n",
    "cv2.waitKey(0)  \n",
    "cv2.destroyAllWindows()  "
   ]
  },
  {
   "cell_type": "code",
   "execution_count": null,
   "metadata": {
    "collapsed": true
   },
   "outputs": [],
   "source": []
  }
 ],
 "metadata": {
  "kernelspec": {
   "display_name": "Python 3",
   "language": "python",
   "name": "python3"
  },
  "language_info": {
   "codemirror_mode": {
    "name": "ipython",
    "version": 3
   },
   "file_extension": ".py",
   "mimetype": "text/x-python",
   "name": "python",
   "nbconvert_exporter": "python",
   "pygments_lexer": "ipython3",
   "version": "3.6.1"
  }
 },
 "nbformat": 4,
 "nbformat_minor": 2
}
