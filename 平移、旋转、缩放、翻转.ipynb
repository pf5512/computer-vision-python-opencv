{
 "cells": [
  {
   "cell_type": "code",
   "execution_count": 3,
   "metadata": {},
   "outputs": [
    {
     "data": {
      "text/plain": [
       "113"
      ]
     },
     "execution_count": 3,
     "metadata": {},
     "output_type": "execute_result"
    }
   ],
   "source": [
    "# 导入库\n",
    "import numpy as np\n",
    "import argparse\n",
    "import cv2\n",
    "\n",
    "# 定义平移translate函数\n",
    "def translate(image, x, y):\n",
    "    # 定义平移矩阵\n",
    "    M = np.float32([[1, 0, x], [0, 1, y]])\n",
    "    shifted = cv2.warpAffine(image, M, (image.shape[1], image.shape[0]))\n",
    "\n",
    "    # 返回转换后的图像\n",
    "    return shifted\n",
    "\n",
    "# 加载图像并显示\n",
    "image = cv2.imread(\"/Users/ylshan/Documents/python/视觉/opencv/data/lenna.png\")\n",
    "cv2.imshow(\"Original\", image)\n",
    "\n",
    "# 将原图分别做上、下、左、右平移操作\n",
    "shifted = translate(image, 0, 100)\n",
    "cv2.imshow(\"Shifted Down\", shifted)\n",
    "shifted = translate(image, 0, -100)\n",
    "cv2.imshow(\"Shifted Up\", shifted)\n",
    "shifted = translate(image, 50, 0)\n",
    "cv2.imshow(\"Shifted Right\", shifted)\n",
    "shifted = translate(image, -50, 0)\n",
    "cv2.imshow(\"Shifted Left\", shifted)\n",
    "cv2.waitKey(0)"
   ]
  },
  {
   "cell_type": "code",
   "execution_count": 1,
   "metadata": {},
   "outputs": [
    {
     "data": {
      "text/plain": [
       "113"
      ]
     },
     "execution_count": 1,
     "metadata": {},
     "output_type": "execute_result"
    }
   ],
   "source": [
    "# 导入库\n",
    "import numpy as np\n",
    "import argparse\n",
    "import cv2\n",
    "\n",
    "# 定义旋转rotate函数\n",
    "def rotate(image, angle, center=None, scale=1.0):\n",
    "    # 获取图像尺寸\n",
    "    (h, w) = image.shape[:2]\n",
    "\n",
    "    # 若未指定旋转中心，则将图像中心设为旋转中心\n",
    "    if center is None:\n",
    "        center = (w / 2, h / 2)\n",
    "\n",
    "    # 执行旋转\n",
    "    M = cv2.getRotationMatrix2D(center, angle, scale)\n",
    "    rotated = cv2.warpAffine(image, M, (w, h))\n",
    "\n",
    "    # 返回旋转后的图像\n",
    "    return rotated\n",
    "\n",
    "image = cv2.imread(\"/Users/ylshan/Documents/python/视觉/opencv/data/lenna.png\")\n",
    "cv2.imshow(\"Original\", image)\n",
    "\n",
    "# 将原图旋转不同角度\n",
    "rotated = rotate(image, 45)\n",
    "cv2.imshow(\"Rotated by 45 Degrees\", rotated)\n",
    "rotated = rotate(image, -45)\n",
    "cv2.imshow(\"Rotated by -45 Degrees\", rotated)\n",
    "rotated = rotate(image, 90)\n",
    "cv2.imshow(\"Rotated by 90 Degrees\", rotated)\n",
    "rotated = rotate(image, -90)\n",
    "cv2.imshow(\"Rotated by -90 Degrees\", rotated)\n",
    "rotated = rotate(image, 180)\n",
    "cv2.imshow(\"Rotated by 180 Degrees\", rotated)\n",
    "cv2.waitKey(0)"
   ]
  },
  {
   "cell_type": "code",
   "execution_count": 1,
   "metadata": {
    "collapsed": true
   },
   "outputs": [],
   "source": [
    "# 导入库\n",
    "import argparse\n",
    "import cv2\n",
    "\n",
    "# 定义缩放resize函数\n",
    "def resize(image, width=None, height=None, inter=cv2.INTER_AREA):\n",
    "    # 初始化缩放比例，并获取图像尺寸\n",
    "    dim = None\n",
    "    (h, w) = image.shape[:2]\n",
    "\n",
    "    # 如果宽度和高度均为0，则返回原图\n",
    "    if width is None and height is None:\n",
    "        return image\n",
    "\n",
    "    # 宽度是0\n",
    "    if width is None:\n",
    "        # 则根据高度计算缩放比例\n",
    "        r = height / float(h)\n",
    "        dim = (int(w * r), height)\n",
    "\n",
    "    # 如果高度为0\n",
    "    else:\n",
    "        # 根据宽度计算缩放比例\n",
    "        r = width / float(w)\n",
    "        dim = (width, int(h * r))\n",
    "\n",
    "    # 缩放图像\n",
    "    resized = cv2.resize(image, dim, interpolation=inter)\n",
    "\n",
    "    # 返回缩放后的图像\n",
    "    return resized\n",
    "\n",
    "\n",
    "image = cv2.imread(\"/Users/ylshan/Documents/python/视觉/opencv/data/lenna.png\")\n",
    "cv2.imshow(\"Original\", image)\n",
    "\n",
    "# 创建插值方法数组\n",
    "methods = [\n",
    "    (\"cv2.INTER_NEAREST\", cv2.INTER_NEAREST),\n",
    "    (\"cv2.INTER_LINEAR\", cv2.INTER_LINEAR),\n",
    "    (\"cv2.INTER_AREA\", cv2.INTER_AREA),\n",
    "    (\"cv2.INTER_CUBIC\", cv2.INTER_CUBIC),\n",
    "    (\"cv2.INTER_LANCZOS4\", cv2.INTER_LANCZOS4)]\n",
    "\n",
    "# 循环执行插值方法数组中的各个方法\n",
    "for (name, method) in methods:\n",
    "    # 放大3倍\n",
    "    resized = resize(image, width=image.shape[1] * 3, inter=method)\n",
    "    cv2.imshow(\"ZoomIn Method: {}\".format(name), resized)\n",
    "    # 缩小2倍\n",
    "    resized = resize(image, width=image.shape[1] //2, inter=method)\n",
    "    cv2.imshow(\"ZoomOut Method: {}\".format(name), resized)\n",
    "    cv2.waitKey(0)"
   ]
  },
  {
   "cell_type": "code",
   "execution_count": 3,
   "metadata": {},
   "outputs": [
    {
     "data": {
      "text/plain": [
       "113"
      ]
     },
     "execution_count": 3,
     "metadata": {},
     "output_type": "execute_result"
    }
   ],
   "source": [
    "# 导入库\n",
    "import argparse\n",
    "import cv2\n",
    "\n",
    "# 构造参数解析器\n",
    "image = cv2.imread(\"/Users/ylshan/Documents/python/视觉/opencv/data/lenna.png\")\n",
    "cv2.imshow(\"Original\", image)\n",
    "\n",
    "# 横向翻转图像\n",
    "flipped = cv2.flip(image, 1)\n",
    "cv2.imshow(\"Flipped Horizontally\", flipped)\n",
    "\n",
    "# 纵向翻转图像\n",
    "flipped = cv2.flip(image, 0)\n",
    "cv2.imshow(\"Flipped Vertically\", flipped)\n",
    "\n",
    "# 同时在横向和纵向翻转图像\n",
    "flipped = cv2.flip(image, -1)\n",
    "cv2.imshow(\"Flipped Horizontally & Vertically\", flipped)\n",
    "cv2.waitKey(0)"
   ]
  },
  {
   "cell_type": "code",
   "execution_count": null,
   "metadata": {
    "collapsed": true
   },
   "outputs": [],
   "source": []
  }
 ],
 "metadata": {
  "kernelspec": {
   "display_name": "Python 3",
   "language": "python",
   "name": "python3"
  },
  "language_info": {
   "codemirror_mode": {
    "name": "ipython",
    "version": 3
   },
   "file_extension": ".py",
   "mimetype": "text/x-python",
   "name": "python",
   "nbconvert_exporter": "python",
   "pygments_lexer": "ipython3",
   "version": "3.6.1"
  }
 },
 "nbformat": 4,
 "nbformat_minor": 2
}
