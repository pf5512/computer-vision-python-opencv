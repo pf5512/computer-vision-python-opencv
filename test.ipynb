{
 "cells": [
  {
   "cell_type": "code",
   "execution_count": 1,
   "metadata": {},
   "outputs": [
    {
     "ename": "SyntaxError",
     "evalue": "invalid syntax (<ipython-input-1-d0ba223212ef>, line 1)",
     "output_type": "error",
     "traceback": [
      "\u001b[0;36m  File \u001b[0;32m\"<ipython-input-1-d0ba223212ef>\"\u001b[0;36m, line \u001b[0;32m1\u001b[0m\n\u001b[0;31m    brew install opencv3 --with-contrib --with-python3 --without-python\u001b[0m\n\u001b[0m               ^\u001b[0m\n\u001b[0;31mSyntaxError\u001b[0m\u001b[0;31m:\u001b[0m invalid syntax\n"
     ]
    }
   ],
   "source": [
    "brew install opencv3 --with-contrib --with-python3 --without-python\n",
    "\n",
    "cd my_tf/lib/python3.5/site-packages  \n",
    "ln -s /usr/local/Cellar/opencv3/3.2.0/lib/python3.6/site-packages/cv2.cpython-36m-darwin.so"
   ]
  },
  {
   "cell_type": "code",
   "execution_count": 1,
   "metadata": {
    "collapsed": true
   },
   "outputs": [],
   "source": [
    "import cv2\n",
    "import numpy as np\n",
    "\n",
    "img = cv2.imread('first.jpg')\n",
    "cv2.imshow('first amg', img)\n",
    "cv2.waitKey()\n",
    "cv2.destroyAllWindows()"
   ]
  },
  {
   "cell_type": "code",
   "execution_count": 1,
   "metadata": {
    "collapsed": true
   },
   "outputs": [],
   "source": [
    "import cv2\n",
    "import numpy as np\n",
    "\n",
    "clicked = False\n",
    "def onMouse(event, x, y, flags, param):\n",
    "    global clicked\n",
    "    if event == cv2.EVENT_LBUTTONUP:\n",
    "        clicked = True\n",
    "\n",
    "cv2.namedWindow('first img')\n",
    "cv2.setMouseCallback('first img', onMouse)\n",
    "\n",
    "img = cv2.imread('first.jpg')\n",
    "cv2.imshow('first img', img)\n",
    "\n",
    "if cv2.waitKey(5000) != -1 and clicked:\n",
    "    #cv2.destroyWindows('first img')\n",
    "    cv2.destroyAllWindows()"
   ]
  },
  {
   "cell_type": "code",
   "execution_count": 1,
   "metadata": {},
   "outputs": [
    {
     "data": {
      "text/plain": [
       "255"
      ]
     },
     "execution_count": 1,
     "metadata": {},
     "output_type": "execute_result"
    }
   ],
   "source": [
    "import cv2\n",
    "import numpy as np\n",
    "\n",
    "def onMouse(event, x, y, flags, param):\n",
    "    if event == cv2.EVENT_LBUTTONUP:\n",
    "        cv2.destroyAllWindows()\n",
    "\n",
    "cv2.namedWindow('first img')\n",
    "cv2.setMouseCallback('first img', onMouse)\n",
    "\n",
    "img = cv2.imread('first.jpg')\n",
    "cv2.imshow('first img', img)\n",
    "cv2.waitKey(5000)"
   ]
  },
  {
   "cell_type": "code",
   "execution_count": 1,
   "metadata": {
    "collapsed": true
   },
   "outputs": [],
   "source": [
    "#高通滤波器 分别用三个核来处理， 对变化越明显的区域其亮度会更显著的升高 高通通常是用来进行亮度提升\n",
    "#低通滤波器则是通过核周围的像素亮度差值小于特定值，平滑该像素亮度，通常是用来进行平滑去噪和模糊化\n",
    "import cv2\n",
    "import numpy as np\n",
    "from scipy import ndimage\n",
    "\n",
    "kernel_3x3 = np.array([[-1,-1,-1],\n",
    "                       [-1,8,-1],\n",
    "                       [-1,-1,-1]])\n",
    "\n",
    "kernel_5x5 = np.array([[-1,-1,-1,-1,-1],\n",
    "                       [-1,1,2,1,-1],\n",
    "                       [-1,2,4,2,-1],\n",
    "                       [-1,1,2,1,-1],\n",
    "                       [-1,-1,-1,-1,-1]])\n",
    "\n",
    "img = cv2.imread(\"second.jpg\", 0)\n",
    "k3 = ndimage.convolve(img, kernel_3x3)\n",
    "k5 = ndimage.convolve(img, kernel_5x5)\n",
    "\n",
    "blurred = cv2.GaussianBlur(img, (11,11), 0)\n",
    "g_hpf = img - blurred\n",
    "\n",
    "cv2.imshow(\"img\", img)\n",
    "cv2.imshow(\"3x3\", k3)\n",
    "cv2.imshow(\"5x5\", k5)\n",
    "cv2.imshow(\"g_hpf\", g_hpf)\n",
    "cv2.waitKey(10000)\n",
    "cv2.destroyAllWindows()"
   ]
  },
  {
   "cell_type": "code",
   "execution_count": 4,
   "metadata": {
    "collapsed": true
   },
   "outputs": [],
   "source": [
    "import cv2\n",
    "import numpy as np\n",
    "\n",
    "#img = cv2.imread('second.jpg')\n",
    "img = cv2.imread('/Users/ylshan/Documents/python/视觉/lion.jpeg')\n",
    "\n",
    "#conny算子\n",
    "cv2.imwrite('canny.jpg', cv2.Canny(img, 100,200,3))\n",
    "cv2.imshow('canny', cv2.imread('canny.jpg'))\n",
    "\n",
    "#sobel算子\n",
    "x = cv2.Sobel(img,cv2.CV_16S,1,0)  \n",
    "y = cv2.Sobel(img,cv2.CV_16S,0,1)  \n",
    "  \n",
    "absX = cv2.convertScaleAbs(x)   # 转回uint8  \n",
    "absY = cv2.convertScaleAbs(y)  \n",
    "  \n",
    "dst = cv2.addWeighted(absX,0.5,absY,0.5,0)  \n",
    "  \n",
    "cv2.imshow(\"absX\", absX)  \n",
    "cv2.imshow(\"absY\", absY)\n",
    "cv2.imshow(\"Result\", dst)  \n",
    "\n",
    "#Laplacian算子　\n",
    "gray_lap = cv2.Laplacian(img,cv2.CV_16S,ksize = 3)  \n",
    "dst = cv2.convertScaleAbs(gray_lap)  \n",
    "cv2.imshow('laplacian',dst)\n",
    "\n",
    "#滤波用低通滤波来平滑图像\n",
    "result = cv2.blur(img, (5,5))  \n",
    "#Laplacian算子　\n",
    "gray_lap = cv2.Laplacian(result,cv2.CV_16S,ksize = 3)  \n",
    "dst = cv2.convertScaleAbs(gray_lap)  \n",
    "  \n",
    "cv2.imshow('laplacian-filter',dst)  \n",
    "\n",
    "cv2.waitKey()\n",
    "cv2.destroyAllWindows()"
   ]
  },
  {
   "cell_type": "code",
   "execution_count": 3,
   "metadata": {
    "collapsed": true
   },
   "outputs": [],
   "source": [
    "#轮廓检测\n",
    "import cv2\n",
    "import numpy as np\n",
    "\n",
    "img = np.zeros((200,200), dtype=np.uint8)#创建黑色空白图像\n",
    "img[50:150, 50:150] = 255#在图像上切片并赋值为白色\n",
    "ret, thresh = cv2.threshold(img, 127, 255, 0)#图像二值化操作\n",
    "#找出轮廓 返回图片。轮廓   层次关系\n",
    "image, contours, hierarchy = cv2.findContours(thresh, cv2.RETR_TREE, cv2.CHAIN_APPROX_SIMPLE)\n",
    "color = cv2.cvtColor(img, cv2.COLOR_GRAY2BGR)\n",
    "#将找出的轮廓描绘绿色\n",
    "img = cv2.drawContours(color, contours, -1, (0,255,0),2)\n",
    "cv2.imshow(\"contours\", color)\n",
    "cv2.waitKey()\n",
    "cv2.destroyAllWindows()"
   ]
  },
  {
   "cell_type": "code",
   "execution_count": 2,
   "metadata": {
    "collapsed": true
   },
   "outputs": [],
   "source": [
    "#直线检测\n",
    "import cv2\n",
    "import numpy as np\n",
    "\n",
    "img = cv2.imread('second.jpg')\n",
    "gray = cv2.cvtColor(img, cv2.COLOR_BGR2GRAY)\n",
    "edges = cv2.Canny(gray, 50, 120)\n",
    "minLineLength = 20\n",
    "maxLineGap = 5\n",
    "#霍夫变换\n",
    "#Hough变换是经典的检测直线的算法。其最初用来检测图像中的直线，同时也可以将其扩展，以用来检测图像中简单的结构。\n",
    "lines = cv2.HoughLinesP(edges, 1, np.pi/180, 100, minLineLength, maxLineGap)\n",
    "\n",
    "for x1, y1, x2, y2 in lines[0]:\n",
    "    cv2.line(img, (x1, y1), (x2,y2), (0,255,0),2)\n",
    "    \n",
    "cv2.imshow('edges', edges)\n",
    "cv2.imshow('lines', img)\n",
    "cv2.waitKey()\n",
    "cv2.destroyAllWindows()"
   ]
  },
  {
   "cell_type": "code",
   "execution_count": 3,
   "metadata": {
    "collapsed": true
   },
   "outputs": [],
   "source": [
    "#圆形检测\n",
    "import cv2\n",
    "import numpy as np\n",
    "\n",
    "img = cv2.imread('second.jpg')\n",
    "gray = cv2.cvtColor(img, cv2.COLOR_BGR2GRAY)\n",
    "img_medianBlur = cv2.medianBlur(gray, 5)\n",
    "cimg = cv2.cvtColor(img_medianBlur, cv2.COLOR_GRAY2BGR)\n",
    "\n",
    "circles = cv2.HoughCircles(img_medianBlur, cv2.HOUGH_GRADIENT, 1,120,param1=100,param2=30,minRadius=5,maxRadius=200)\n",
    "\n",
    "circles = np.uint16(np.around(circles))\n",
    "\n",
    "for i in circles[0,:]:\n",
    "    cv2.circle(img, (i[0],i[1]),i[2],(0,255,0),2)\n",
    "    cv2.circle(img, (i[0],i[1]),2,(0,0,255),3)\n",
    "\n",
    "cv2.imwrite(\"planets_circle.jpg\", img)\n",
    "cv2.imshow('HoughCircles', img)\n",
    "cv2.waitKey(5000)\n",
    "cv2.destroyAllWindows()"
   ]
  },
  {
   "cell_type": "code",
   "execution_count": 1,
   "metadata": {
    "collapsed": true
   },
   "outputs": [],
   "source": [
    "import cv2\n",
    "import numpy as np\n",
    "\n",
    "#img = cv2.imread('second.jpg')\n",
    "img = cv2.imread('/Users/ylshan/Documents/python/视觉/lion.jpeg')\n",
    "\n",
    "\n",
    "#Laplacian算子　\n",
    "gray_lap = cv2.Laplacian(img,cv2.CV_16S,ksize = 3)  \n",
    "dst = cv2.convertScaleAbs(gray_lap)  \n",
    "cv2.imshow('laplacian',dst)\n",
    "\n",
    "#滤波用低通滤波来平滑图像\n",
    "result = cv2.blur(img, (5,5))  \n",
    "#box滤波器\n",
    "result = cv2.medianBlur(img,5)  \n",
    "#使用中值滤波消除噪点\n",
    "result = cv2.boxFilter(img, -1, (5, 5))\n",
    "#高斯滤波\n",
    "result = cv2.GaussianBlur(img,(3,3),0)  \n",
    "#Laplacian算子　\n",
    "gray_lap = cv2.Laplacian(result,cv2.CV_16S,ksize = 3)  \n",
    "dst = cv2.convertScaleAbs(gray_lap)  \n",
    "  \n",
    "cv2.imshow('laplacian-filter',dst)  \n",
    "\n",
    "while True:\n",
    "    key=cv2.waitKey(10)\n",
    "    c = chr(key & 255)\n",
    "    if c in ['q', 'Q', chr(27)]:\n",
    "        break\n",
    "cv2.destroyWindow(\"laplacian-filter\")\n",
    "cv2.destroyWindow(\"laplacian\")"
   ]
  },
  {
   "cell_type": "code",
   "execution_count": null,
   "metadata": {
    "collapsed": true
   },
   "outputs": [],
   "source": []
  },
  {
   "cell_type": "code",
   "execution_count": null,
   "metadata": {
    "collapsed": true
   },
   "outputs": [],
   "source": []
  },
  {
   "cell_type": "code",
   "execution_count": 3,
   "metadata": {},
   "outputs": [
    {
     "ename": "error",
     "evalue": "/tmp/opencv3-20170605-6910-dv32r3/opencv-3.2.0/modules/core/src/matrix.cpp:949: error: (-215) dims <= 2 && step[0] > 0 in function locateROI\n",
     "output_type": "error",
     "traceback": [
      "\u001b[0;31m---------------------------------------------------------------------------\u001b[0m",
      "\u001b[0;31merror\u001b[0m                                     Traceback (most recent call last)",
      "\u001b[0;32m<ipython-input-3-13d5897a4b04>\u001b[0m in \u001b[0;36m<module>\u001b[0;34m()\u001b[0m\n\u001b[1;32m      5\u001b[0m \u001b[0;31m#构造一个3×3的结构元素\u001b[0m\u001b[0;34m\u001b[0m\u001b[0;34m\u001b[0m\u001b[0m\n\u001b[1;32m      6\u001b[0m \u001b[0melement\u001b[0m \u001b[0;34m=\u001b[0m \u001b[0mcv2\u001b[0m\u001b[0;34m.\u001b[0m\u001b[0mgetStructuringElement\u001b[0m\u001b[0;34m(\u001b[0m\u001b[0mcv2\u001b[0m\u001b[0;34m.\u001b[0m\u001b[0mMORPH_RECT\u001b[0m\u001b[0;34m,\u001b[0m\u001b[0;34m(\u001b[0m\u001b[0;36m3\u001b[0m\u001b[0;34m,\u001b[0m \u001b[0;36m3\u001b[0m\u001b[0;34m)\u001b[0m\u001b[0;34m)\u001b[0m\u001b[0;34m\u001b[0m\u001b[0m\n\u001b[0;32m----> 7\u001b[0;31m \u001b[0mdilate\u001b[0m \u001b[0;34m=\u001b[0m \u001b[0mcv2\u001b[0m\u001b[0;34m.\u001b[0m\u001b[0mdilate\u001b[0m\u001b[0;34m(\u001b[0m\u001b[0mimage\u001b[0m\u001b[0;34m,\u001b[0m \u001b[0melement\u001b[0m\u001b[0;34m)\u001b[0m\u001b[0;34m\u001b[0m\u001b[0m\n\u001b[0m\u001b[1;32m      8\u001b[0m \u001b[0merode\u001b[0m \u001b[0;34m=\u001b[0m \u001b[0mcv2\u001b[0m\u001b[0;34m.\u001b[0m\u001b[0merode\u001b[0m\u001b[0;34m(\u001b[0m\u001b[0mimage\u001b[0m\u001b[0;34m,\u001b[0m \u001b[0melement\u001b[0m\u001b[0;34m)\u001b[0m\u001b[0;34m\u001b[0m\u001b[0m\n\u001b[1;32m      9\u001b[0m \u001b[0;34m\u001b[0m\u001b[0m\n",
      "\u001b[0;31merror\u001b[0m: /tmp/opencv3-20170605-6910-dv32r3/opencv-3.2.0/modules/core/src/matrix.cpp:949: error: (-215) dims <= 2 && step[0] > 0 in function locateROI\n"
     ]
    }
   ],
   "source": [
    "import cv2\n",
    "import numpy\n",
    "\n",
    "image = cv2.imread(\"/Users/ylshan/Documents/python/视觉/building.jpg\",0)\n",
    "#构造一个3×3的结构元素 \n",
    "element = cv2.getStructuringElement(cv2.MORPH_RECT,(3, 3))\n",
    "dilate = cv2.dilate(image, element)\n",
    "erode = cv2.erode(image, element)\n",
    "\n",
    "#将两幅图像相减获得边，第一个参数是膨胀后的图像，第二个参数是腐蚀后的图像\n",
    "result = cv2.absdiff(dilate,erode)\n",
    "\n",
    "#上面得到的结果是灰度图，将其二值化以便更清楚的观察结果\n",
    "retval, result = cv2.threshold(result, 40, 255, cv2.THRESH_BINARY)\n",
    "#反色，即对二值图每个像素取反\n",
    "result = cv2.bitwise_not(result)\n",
    "#显示图像\n",
    "cv2.imshow(\"result\",result)\n",
    "cv2.waitKey(0)\n",
    "cv2.destroyAllWindows()"
   ]
  },
  {
   "cell_type": "code",
   "execution_count": 5,
   "metadata": {
    "collapsed": true
   },
   "outputs": [],
   "source": [
    "#角点检测import cv2\n",
    "import cv2\n",
    "import numpy\n",
    "\n",
    "image = cv2.imread(\"/Users/ylshan/Documents/python/视觉/building.jpeg\", 0)\n",
    "origin = cv2.imread(\"/Users/ylshan/Documents/python/视觉/building.jpeg\")\n",
    "\n",
    "#原图像\n",
    "cv2.imshow(\"Origin\", origin)\n",
    "\n",
    "#构造5×5的结构元素，分别为十字形、菱形、方形和X型\n",
    "cross = cv2.getStructuringElement(cv2.MORPH_CROSS,(5, 5))\n",
    "#菱形结构元素的定义稍麻烦一些\n",
    "diamond = cv2.getStructuringElement(cv2.MORPH_RECT,(5, 5))\n",
    "\n",
    "diamond[0, 0] = 0\n",
    "diamond[0, 1] = 0\n",
    "diamond[1, 0] = 0\n",
    "diamond[4, 4] = 0\n",
    "diamond[4, 3] = 0\n",
    "diamond[3, 4] = 0\n",
    "diamond[4, 0] = 0\n",
    "diamond[4, 1] = 0\n",
    "diamond[3, 0] = 0\n",
    "diamond[0, 3] = 0\n",
    "diamond[0, 4] = 0\n",
    "diamond[1, 4] = 0\n",
    "square = cv2.getStructuringElement(cv2.MORPH_RECT,(5, 5))\n",
    "x = cv2.getStructuringElement(cv2.MORPH_CROSS,(5, 5))\n",
    "\n",
    "#使用cross膨胀图像\n",
    "result1 = cv2.dilate(image,cross)\n",
    "#使用菱形腐蚀图像\n",
    "result1 = cv2.erode(result1, diamond)\n",
    "\n",
    "#使用X膨胀原图像 \n",
    "result2 = cv2.dilate(image, x)\n",
    "#使用方形腐蚀图像 \n",
    "result2 = cv2.erode(result2,square)\n",
    "\n",
    "#result = result1.copy()\n",
    "#将两幅闭运算的图像相减获得角 \n",
    "result = cv2.absdiff(result2, result1)\n",
    "#使用阈值获得二值图\n",
    "retval, result = cv2.threshold(result, 40, 255, cv2.THRESH_BINARY)\n",
    "\n",
    "#在原图上用半径为5的圆圈将点标出。\n",
    "for j in range(result.size):\n",
    "    y = j // result.shape[0]\n",
    "    x = j % result.shape[0] \n",
    "    if result[x, y] == 255:\n",
    "        cv2.circle(image, (y, x), 5, (255,0,0))\n",
    "        \n",
    "cv2.imshow(\"Result\", image)\n",
    "cv2.waitKey(0)\n",
    "cv2.destroyAllWindows()\n"
   ]
  },
  {
   "cell_type": "code",
   "execution_count": 1,
   "metadata": {
    "collapsed": true
   },
   "outputs": [],
   "source": [
    "#边缘检测\n",
    "#形态学检测边缘的原理很简单，在膨胀时，图像中的物体会想周围“扩张”；腐蚀时，图像中的物体会“收缩”。\n",
    "#比较这两幅图像，由于其变化的区域只发生在边缘。所以这时将两幅图像相减，得到的就是图像中物体的边缘。\n",
    "#这里用的依然是参考资料1中相关章节的图片\n",
    "\n",
    "import cv2\n",
    "import numpy\n",
    "\n",
    "image = cv2.imread(\"/Users/ylshan/Documents/python/视觉/building.jpeg\",0);\n",
    "cv2.imshow(\"origin\",image)\n",
    "#构造一个3×3的结构元素 \n",
    "element = cv2.getStructuringElement(cv2.MORPH_RECT,(3, 3))\n",
    "dilate = cv2.dilate(image, element)\n",
    "erode = cv2.erode(image, element)\n",
    "\n",
    "#将两幅图像相减获得边，第一个参数是膨胀后的图像，第二个参数是腐蚀后的图像\n",
    "result = cv2.absdiff(dilate,erode)\n",
    "\n",
    "#上面得到的结果是灰度图，将其二值化以便更清楚的观察结果\n",
    "retval, result = cv2.threshold(result, 40, 255, cv2.THRESH_BINARY)\n",
    "#反色，即对二值图每个像素取反\n",
    "result = cv2.bitwise_not(result)\n",
    "#显示图像\n",
    "cv2.imshow(\"result\",result)\n",
    "\n",
    "#conny算子\n",
    "#cv2.imwrite('canny.jpg', cv2.Canny(image, 100,200,3))\n",
    "#cv2.imshow('canny', cv2.imread('canny.jpg'))\n",
    "cv2.imshow('canny', cv2.Canny(image, 100,200,3))\n",
    "\n",
    "cv2.imshow('result-canny', cv2.Canny(result, 100,200,3))\n",
    "\n",
    "cv2.waitKey(0)\n",
    "cv2.destroyAllWindows()"
   ]
  },
  {
   "cell_type": "code",
   "execution_count": 2,
   "metadata": {},
   "outputs": [],
   "source": [
    "#图像通道分离合并\n",
    "import cv2  \n",
    "import numpy as np  \n",
    "  \n",
    "img = cv2.imread(\"/Users/ylshan/Documents/python/视觉/cat.jpg\")  \n",
    "b, g, r = cv2.split(img) \n",
    "#cv2.imshow(\"origin\", img)\n",
    "#cv2.imshow(\"Blue\", r)  \n",
    "#cv2.imshow(\"Red\", g)  \n",
    "#cv2.imshow(\"Green\", b)  \n",
    "merged = cv2.merge([b,g,r]) #前面分离出来的三个通道  \n",
    "#cv2.imshow(\"merged\", merged)\n",
    "\n",
    "res = np.hstack((r,g,b))\n",
    "cv2.imshow(\"Res\", res)\n",
    "\n",
    "cv2.waitKey(0)  \n",
    "cv2.destroyAllWindows()  "
   ]
  },
  {
   "cell_type": "code",
   "execution_count": null,
   "metadata": {},
   "outputs": [],
   "source": []
  },
  {
   "cell_type": "code",
   "execution_count": null,
   "metadata": {
    "collapsed": true
   },
   "outputs": [],
   "source": []
  },
  {
   "cell_type": "code",
   "execution_count": null,
   "metadata": {
    "collapsed": true
   },
   "outputs": [],
   "source": []
  }
 ],
 "metadata": {
  "kernelspec": {
   "display_name": "Python 3",
   "language": "python",
   "name": "python3"
  },
  "language_info": {
   "codemirror_mode": {
    "name": "ipython",
    "version": 3
   },
   "file_extension": ".py",
   "mimetype": "text/x-python",
   "name": "python",
   "nbconvert_exporter": "python",
   "pygments_lexer": "ipython3",
   "version": "3.6.1"
  }
 },
 "nbformat": 4,
 "nbformat_minor": 2
}
