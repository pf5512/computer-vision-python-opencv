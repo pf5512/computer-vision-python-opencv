{
 "cells": [
  {
   "cell_type": "code",
   "execution_count": 1,
   "metadata": {
    "collapsed": true
   },
   "outputs": [],
   "source": [
    "import cv2  \n",
    "import numpy as np  \n",
    "camera=cv2.VideoCapture(0)  \n",
    "firstframe=None  \n",
    "while True:  \n",
    "    ret,frame = camera.read()  \n",
    "    if not ret:  \n",
    "        break  \n",
    "    gray=cv2.cvtColor(frame,cv2.COLOR_BGR2GRAY)  \n",
    "    gray=cv2.GaussianBlur(gray,(21,21),0)  \n",
    "    if firstframe is None:  \n",
    "        firstframe=gray  \n",
    "        continue  \n",
    "      \n",
    "    frameDelta = cv2.absdiff(firstframe,gray)  \n",
    "    thresh = cv2.threshold(frameDelta, 25, 255, cv2.THRESH_BINARY)[1]  \n",
    "    thresh = cv2.dilate(thresh, None, iterations=2)  \n",
    "    cnts= cv2.findContours(thresh.copy(),cv2.RETR_EXTERNAL,cv2.CHAIN_APPROX_SIMPLE)  \n",
    "      \n",
    "    x,y,w,h=cv2.boundingRect(thresh)  \n",
    "    frame=cv2.rectangle(frame,(x,y),(x+w,y+h),(0,0,255),2)  \n",
    "    cv2.imshow(\"frame\", frame)  \n",
    "    cv2.imshow(\"Thresh\", thresh)  \n",
    "    cv2.imshow(\"frame2\", frameDelta)  \n",
    "    key = cv2.waitKey(1)&0xFF  \n",
    "      \n",
    "    if key == ord(\"q\"):  \n",
    "        break  \n",
    "  \n",
    "camera.release()  \n",
    "cv2.destroyAllWindows()  "
   ]
  },
  {
   "cell_type": "code",
   "execution_count": null,
   "metadata": {
    "collapsed": true
   },
   "outputs": [],
   "source": []
  },
  {
   "cell_type": "code",
   "execution_count": null,
   "metadata": {
    "collapsed": true
   },
   "outputs": [],
   "source": []
  }
 ],
 "metadata": {
  "kernelspec": {
   "display_name": "Python 3",
   "language": "python",
   "name": "python3"
  },
  "language_info": {
   "codemirror_mode": {
    "name": "ipython",
    "version": 3
   },
   "file_extension": ".py",
   "mimetype": "text/x-python",
   "name": "python",
   "nbconvert_exporter": "python",
   "pygments_lexer": "ipython3",
   "version": "3.6.1"
  }
 },
 "nbformat": 4,
 "nbformat_minor": 2
}
