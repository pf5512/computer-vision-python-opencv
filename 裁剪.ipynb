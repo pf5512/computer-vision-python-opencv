{
 "cells": [
  {
   "cell_type": "code",
   "execution_count": 1,
   "metadata": {},
   "outputs": [
    {
     "data": {
      "text/plain": [
       "27"
      ]
     },
     "execution_count": 1,
     "metadata": {},
     "output_type": "execute_result"
    }
   ],
   "source": [
    "# 导入库\n",
    "import cv2\n",
    "import argparse\n",
    "\n",
    "# 构造参数解析器\n",
    "image = cv2.imread(\"/Users/ylshan/Documents/python/视觉/opencv/data/lenna.png\")\n",
    "cv2.imshow(\"Original\", image)\n",
    "\n",
    "# 第一次尝试把嘴的部位裁剪出来\n",
    "mouth = image[85:250, 85:220]\n",
    "cv2.imshow(\"Mouth1\", mouth)\n",
    "cv2.waitKey(0)\n",
    "\n",
    "# 第二次尝试把嘴的部位裁剪出来\n",
    "mouth = image[85:350, 285:420]\n",
    "cv2.imshow(\"Mouth2\", mouth)\n",
    "cv2.waitKey(0)\n",
    "\n",
    "# 第三次尝试把嘴的部位裁剪出来\n",
    "mouth = image[85:250, 85:220]\n",
    "cv2.imshow(\"Mouth3\", mouth)\n",
    "cv2.waitKey(0)"
   ]
  },
  {
   "cell_type": "code",
   "execution_count": null,
   "metadata": {
    "collapsed": true
   },
   "outputs": [],
   "source": []
  }
 ],
 "metadata": {
  "kernelspec": {
   "display_name": "Python 3",
   "language": "python",
   "name": "python3"
  },
  "language_info": {
   "codemirror_mode": {
    "name": "ipython",
    "version": 3
   },
   "file_extension": ".py",
   "mimetype": "text/x-python",
   "name": "python",
   "nbconvert_exporter": "python",
   "pygments_lexer": "ipython3",
   "version": "3.6.1"
  }
 },
 "nbformat": 4,
 "nbformat_minor": 2
}
