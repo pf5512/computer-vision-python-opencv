{
 "cells": [
  {
   "cell_type": "code",
   "execution_count": 2,
   "metadata": {
    "collapsed": true
   },
   "outputs": [],
   "source": [
    "#形态学处理\n",
    "import cv2\n",
    "import numpy as np\n",
    " \n",
    "img = cv2.imread('/Users/ylshan/Documents/python/视觉/opencv/data/binary.bmp',0)\n",
    "#OpenCV定义的结构元素\n",
    "kernel = cv2.getStructuringElement(cv2.MORPH_RECT,(3, 3))\n",
    "\n",
    "#腐蚀图像\n",
    "eroded = cv2.erode(img,kernel)\n",
    "#显示腐蚀后的图像\n",
    "cv2.imshow(\"Eroded Image\",eroded)\n",
    "\n",
    "#膨胀图像\n",
    "dilated = cv2.dilate(img,kernel)\n",
    "#显示膨胀后的图像\n",
    "cv2.imshow(\"Dilated Image\",dilated)\n",
    "#原图像\n",
    "cv2.imshow(\"Origin\", img)\n",
    "\n",
    "#NumPy定义的结构元素\n",
    "NpKernel = np.uint8(np.ones((3,3)))\n",
    "Nperoded = cv2.erode(img,NpKernel)\n",
    "#显示腐蚀后的图像\n",
    "cv2.imshow(\"Eroded by NumPy kernel\",Nperoded)\n",
    "\n",
    "cv2.waitKey(0)\n",
    "cv2.destroyAllWindows()"
   ]
  },
  {
   "cell_type": "code",
   "execution_count": 3,
   "metadata": {
    "collapsed": true
   },
   "outputs": [],
   "source": [
    "#开闭运算\n",
    "import cv2\n",
    "import numpy as np\n",
    " \n",
    "img = cv2.imread('/Users/ylshan/Documents/python/视觉/opencv/data/binary.bmp',0)\n",
    "#定义结构元素\n",
    "kernel = cv2.getStructuringElement(cv2.MORPH_RECT,(5, 5))\n",
    "\n",
    "#原图像\n",
    "cv2.imshow(\"Origin\", img)\n",
    "\n",
    "#闭运算\n",
    "closed = cv2.morphologyEx(img, cv2.MORPH_CLOSE, kernel)\n",
    "#显示腐蚀后的图像\n",
    "cv2.imshow(\"Close\",closed)\n",
    "\n",
    "#开运算\n",
    "opened = cv2.morphologyEx(img, cv2.MORPH_OPEN, kernel)\n",
    "#显示腐蚀后的图像\n",
    "cv2.imshow(\"Open\", opened)\n",
    "\n",
    "#联合进行 先闭后开\n",
    "opened1 = cv2.morphologyEx(closed, cv2.MORPH_OPEN, kernel)\n",
    "#显示腐蚀后的图像\n",
    "cv2.imshow(\"Close-Open\", opened1)\n",
    "\n",
    "cv2.waitKey(0)\n",
    "cv2.destroyAllWindows()"
   ]
  },
  {
   "cell_type": "code",
   "execution_count": null,
   "metadata": {
    "collapsed": true
   },
   "outputs": [],
   "source": []
  }
 ],
 "metadata": {
  "kernelspec": {
   "display_name": "Python 3",
   "language": "python",
   "name": "python3"
  },
  "language_info": {
   "codemirror_mode": {
    "name": "ipython",
    "version": 3
   },
   "file_extension": ".py",
   "mimetype": "text/x-python",
   "name": "python",
   "nbconvert_exporter": "python",
   "pygments_lexer": "ipython3",
   "version": "3.6.1"
  }
 },
 "nbformat": 4,
 "nbformat_minor": 2
}
