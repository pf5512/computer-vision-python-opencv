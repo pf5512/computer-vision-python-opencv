{
 "cells": [
  {
   "cell_type": "code",
   "execution_count": 1,
   "metadata": {},
   "outputs": [],
   "source": [
    "#对图像按照权重相加\n",
    "import cv2\n",
    "import numpy as np\n",
    "img1=cv2.imread('/Users/ylshan/Documents/python/视觉/lenna.png')\n",
    "img2=cv2.imread('/Users/ylshan/Documents/python/视觉/cat.jpg')\n",
    "\n",
    "rows,cols,channels = img2.shape\n",
    "\n",
    "temp = img1[:rows, :cols, :]\n",
    "dst=cv2.addWeighted(temp,0.7,img2,0.3,0)\n",
    "cv2.imshow('dst',dst)\n",
    "cv2.waitKey(0)\n",
    "cv2.destroyAllWindows()"
   ]
  },
  {
   "cell_type": "code",
   "execution_count": 1,
   "metadata": {},
   "outputs": [],
   "source": [
    "#部分混合\n",
    "import cv2\n",
    "import numpy as np\n",
    "# 加载图像\n",
    "\n",
    "img1=cv2.imread('/Users/ylshan/Documents/python/视觉/lenna.png')\n",
    "img2=cv2.imread('/Users/ylshan/Documents/python/视觉/cat.jpg')\n",
    "\n",
    "# I want to put logo on top-left corner, So I create a ROI\n",
    "rows,cols,channels = img2.shape\n",
    "\n",
    "roi = img1[0:rows, 0:cols, :]\n",
    "# Now create a mask of logo and create its inverse mask also\n",
    "img2gray = cv2.cvtColor(img2,cv2.COLOR_BGR2GRAY)\n",
    "ret, mask = cv2.threshold(img2gray, 130, 255, cv2.THRESH_BINARY)\n",
    "mask_inv = cv2.bitwise_not(mask)\n",
    "\n",
    "# Now black-out the area of logo in ROI\n",
    "# 取 roi 中与 mask 中不为零的值对应的像素的值，其他值为 0\n",
    "# 注意这里必须有 mask=mask 或者 mask=mask_inv, 其中的 mask= 不能忽略 \n",
    "img1_bg = cv2.bitwise_and(roi,roi,mask = mask)\n",
    "# 取 roi 中与 mask_inv 中不为零的值对应的像素的值，其他值为 0。\n",
    "# Take only region of logo from logo image.\n",
    "img2_fg = cv2.bitwise_and(img2,img2,mask = mask_inv)\n",
    "\n",
    "cv2.imshow('img2gray',img2gray)\n",
    "cv2.imshow('img1_bg',img1_bg)\n",
    "cv2.imshow('img2_fg',img2_fg)\n",
    "\n",
    "# Put logo in ROI and modify the main image\n",
    "dst = cv2.add(img1_bg,img2_fg)\n",
    "img1[0:rows, 0:cols ] = dst\n",
    "cv2.imshow('res',img1)\n",
    "cv2.waitKey(0)\n",
    "cv2.destroyAllWindows()"
   ]
  },
  {
   "cell_type": "code",
   "execution_count": null,
   "metadata": {
    "collapsed": true
   },
   "outputs": [],
   "source": []
  }
 ],
 "metadata": {
  "kernelspec": {
   "display_name": "Python 3",
   "language": "python",
   "name": "python3"
  },
  "language_info": {
   "codemirror_mode": {
    "name": "ipython",
    "version": 3
   },
   "file_extension": ".py",
   "mimetype": "text/x-python",
   "name": "python",
   "nbconvert_exporter": "python",
   "pygments_lexer": "ipython3",
   "version": "3.6.1"
  }
 },
 "nbformat": 4,
 "nbformat_minor": 2
}
