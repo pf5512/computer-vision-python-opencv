{
 "cells": [
  {
   "cell_type": "code",
   "execution_count": 1,
   "metadata": {
    "collapsed": true
   },
   "outputs": [],
   "source": [
    "#颜色变换\n",
    "#获取蓝色\n",
    "import numpy as np\n",
    "import cv2\n",
    "\n",
    "#对于 BGR↔Gray 的转换，我们要使用的 flag 就是 cv2.COLOR_BGR2GRAY。 \n",
    "#同样对于 BGR↔HSV 的转换，我们用的 flag 就是 cv2.COLOR_BGR2HSV。 \n",
    "cap=cv2.VideoCapture(0) \n",
    "while(1):\n",
    "    # 获取每一帧 \n",
    "    ret,frame=cap.read()\n",
    "    # 转换到 HSV \n",
    "    hsv=cv2.cvtColor(frame,cv2.COLOR_BGR2HSV)\n",
    "    # 设定蓝色的阈值 \n",
    "    lower_blue=np.array([110,50,50]) \n",
    "    upper_blue=np.array([130,255,255])\n",
    "    # 根据阈值构建掩模 \n",
    "    mask=cv2.inRange(hsv,lower_blue,upper_blue)\n",
    "    # 对原图像和掩模进行位运算 \n",
    "    res=cv2.bitwise_and(frame,frame,mask=mask)\n",
    "    # 显示图像 \n",
    "    cv2.imshow('frame',frame) \n",
    "    cv2.imshow('mask',mask) \n",
    "    cv2.imshow('res',res) \n",
    "    k=cv2.waitKey(5)&0xFF\n",
    "    if k==27:\n",
    "        break\n",
    "# 关闭窗口 \n",
    "cv2.destroyAllWindows()"
   ]
  },
  {
   "cell_type": "code",
   "execution_count": 1,
   "metadata": {
    "collapsed": true
   },
   "outputs": [],
   "source": [
    "#怎样找到要跟踪对象的 HSV 值?\n",
    "import numpy as np\n",
    "import cv2\n",
    "\n",
    "green=cv2.imread(\"/Users/ylshan/Documents/python/视觉/opencv/data/lenna.png\")\n",
    "hsv_green=cv2.cvtColor(green,cv2.COLOR_BGR2HSV)\n",
    "\n",
    "# 设定蓝色的阈值 \n",
    "lower_blue=np.array([0,100,100]) \n",
    "upper_blue=np.array([60,255,255])\n",
    "# 根据阈值构建掩模 \n",
    "mask=cv2.inRange(hsv_green,lower_blue,upper_blue)\n",
    "# 对原图像和掩模进行位运算 \n",
    "res=cv2.bitwise_and(green,green,mask=mask)\n",
    "# 显示图像 \n",
    "\n",
    "cv2.imshow('mask',mask) \n",
    "cv2.imshow('res',res)\n",
    "\n",
    "cv2.imshow('hsv_green',hsv_green) \n",
    "k=cv2.waitKey(0)\n",
    "# 关闭窗口 \n",
    "cv2.destroyAllWindows()"
   ]
  },
  {
   "cell_type": "code",
   "execution_count": null,
   "metadata": {
    "collapsed": true
   },
   "outputs": [],
   "source": []
  }
 ],
 "metadata": {
  "kernelspec": {
   "display_name": "Python 3",
   "language": "python",
   "name": "python3"
  },
  "language_info": {
   "codemirror_mode": {
    "name": "ipython",
    "version": 3
   },
   "file_extension": ".py",
   "mimetype": "text/x-python",
   "name": "python",
   "nbconvert_exporter": "python",
   "pygments_lexer": "ipython3",
   "version": "3.6.1"
  }
 },
 "nbformat": 4,
 "nbformat_minor": 2
}
